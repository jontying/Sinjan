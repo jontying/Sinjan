{
 "cells": [
  {
   "cell_type": "code",
   "execution_count": null,
   "metadata": {},
   "outputs": [],
   "source": [
    "x=input(\"enter the current year \")\n",
    "y=input(\"enter the year of joining \")\n",
    "z=x-y\n",
    "\"Bonus of 2500 received\" if z > 3 else \"no output\""
   ]
  },
  {
   "cell_type": "code",
   "execution_count": null,
   "metadata": {},
   "outputs": [],
   "source": [
    "a,b,c,d,e=input(\"Enter marks of each subject:\").split()\n",
    "p=((a+b+c+d+e)/500)*100\n",
    "if p>=60:\n",
    "    print(\"First division\")\n",
    "    elif p<60 and p>=50:\n",
    "        print(\"second division\")\n",
    "        elif p<50 and p>=40\n",
    "        print(\"third division\")\n",
    "        else p<40\n",
    "        print(\"Fail\")"
   ]
  },
  {
   "cell_type": "code",
   "execution_count": null,
   "metadata": {},
   "outputs": [],
   "source": [
    "a=\"married\"\n",
    "b=\"male\"\n",
    "x=input(\"Enter marital statusage of the person \")\n",
    "\n",
    "\n"
   ]
  },
  {
   "cell_type": "code",
   "execution_count": null,
   "metadata": {},
   "outputs": [],
   "source": []
  }
 ],
 "metadata": {
  "kernelspec": {
   "display_name": "Python 3",
   "language": "python",
   "name": "python3"
  },
  "language_info": {
   "codemirror_mode": {
    "name": "ipython",
    "version": 3
   },
   "file_extension": ".py",
   "mimetype": "text/x-python",
   "name": "python",
   "nbconvert_exporter": "python",
   "pygments_lexer": "ipython3",
   "version": "3.7.6"
  }
 },
 "nbformat": 4,
 "nbformat_minor": 4
}
